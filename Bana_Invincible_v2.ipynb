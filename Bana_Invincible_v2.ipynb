{
  "nbformat": 4,
  "nbformat_minor": 0,
  "metadata": {
    "colab": {
      "name": "Bana_Invincible_v2.ipynb",
      "provenance": [],
      "collapsed_sections": []
    },
    "kernelspec": {
      "name": "python3",
      "display_name": "Python 3"
    }
  },
  "cells": [
    {
      "cell_type": "markdown",
      "metadata": {
        "id": "view-in-github",
        "colab_type": "text"
      },
      "source": [
        "<a href=\"https://colab.research.google.com/github/BtC04ShW/Brobananaturnsred/blob/master/Bana_Invincible_v2.ipynb\" target=\"_parent\"><img src=\"https://colab.research.google.com/assets/colab-badge.svg\" alt=\"Open In Colab\"/></a>"
      ]
    },
    {
      "cell_type": "markdown",
      "metadata": {
        "id": "aQuWDmfm9YOi",
        "colab_type": "text"
      },
      "source": [
        "# Bana Invincible v2"
      ]
    },
    {
      "cell_type": "markdown",
      "metadata": {
        "id": "Uf90U73y9YOj",
        "colab_type": "text"
      },
      "source": [
        "### Mount Google Drive\n",
        "To stream files we need to mount Google Drive."
      ]
    },
    {
      "cell_type": "code",
      "metadata": {
        "colab_type": "code",
        "id": "oWM9l2fvtuvO",
        "colab": {}
      },
      "source": [
        "from google.colab import drive\n",
        "drive.mount('/content/drive')"
      ],
      "execution_count": 0,
      "outputs": []
    },
    {
      "cell_type": "markdown",
      "metadata": {
        "id": "FexiyATtNwTG",
        "colab_type": "text"
      },
      "source": [
        "###Dependency\n",
        "https://www.libtorrent.org/"
      ]
    },
    {
      "cell_type": "code",
      "metadata": {
        "colab_type": "code",
        "id": "m6hF0emftx4h",
        "colab": {}
      },
      "source": [
        "!apt install python3-libtorrent"
      ],
      "execution_count": 0,
      "outputs": []
    },
    {
      "cell_type": "markdown",
      "metadata": {
        "id": "tqKcWHZcYRIA",
        "colab_type": "text"
      },
      "source": [
        "### Code to download torrent\n",
        "Variable **link** stores the link string."
      ]
    },
    {
      "cell_type": "code",
      "metadata": {
        "colab_type": "code",
        "id": "b09BxnANO2ep",
        "colab": {}
      },
      "source": [
        "import libtorrent as lt\n",
        "import time\n",
        "import datetime\n",
        "import sys\n",
        "\n",
        "def getTracker():\n",
        "    import urllib.request\n",
        "    r = urllib.request.urlopen(\"https://btc04shw.github.io/tklist/tklist.txt\")\n",
        "    trackertBytes = r.read().decode(\"utf-8\")\n",
        "    s_ = \"\".join(trackertBytes.splitlines())\n",
        "    s_ = s_.replace(\"http\", \"&tr=http\").replace(\"udp:\", \"&tr=udp:\")\n",
        "    trackerStr = urllib.parse.quote(s_, safe='&=')\n",
        "    return trackerStr\n",
        "\n",
        "def convert_bytes(num):\n",
        "    unit_ = 2**10\n",
        "    for x in ['bytes', 'KB', 'MB', 'GB', 'TB']:\n",
        "        if num < unit_:\n",
        "            return f\"{num:.2f} {x}\"\n",
        "        num /= unit_\n",
        "\n",
        "ses = lt.session()\n",
        "ses.listen_on(6881, 6891)\n",
        "params = {\n",
        "    'save_path': '/content/drive/My Drive/TorrentDLER/',\n",
        "    'storage_mode': lt.storage_mode_t(2),\n",
        "    'paused': False,\n",
        "    'auto_managed': True,\n",
        "    'duplicate_is_error': True}\n",
        "link = \"https://yts.lt/torrent/download/866BDCFA006930A718ADBC21D8CAE1F2C7F9D8B3\" # PASTE TORRENT/MAGNET LINK HERE\n",
        "print(link)\n",
        "link += getTracker()\n",
        "\n",
        "handle = lt.add_magnet_uri(ses, link, params)\n",
        "ses.start_dht()\n",
        "\n",
        "begin = time.time()\n",
        "print(datetime.datetime.now())\n",
        "\n",
        "print ('Downloading Metadata...')\n",
        "while (not handle.has_metadata()):\n",
        "    time.sleep(1)\n",
        "print ('Got Metadata, Starting Torrent Download...')\n",
        "\n",
        "torinfo = handle.get_torrent_info()\n",
        "print(\"Total size: {0} ({1})\".format(convert_bytes(torinfo.total_size()), torinfo.total_size()))\n",
        "print(\"Total numb:\", torinfo.files().num_files())\n",
        "#for index in range(torinfo.files().num_files()):\n",
        "#    if (index >=0 and index <= 1):\n",
        "#        handle.file_priority(index, 4)\n",
        "#    else:\n",
        "#        handle.file_priority(index, 0)\n",
        "#    print(\"[\" + str(index) + \"]\" + torinfo.files().file_path(index) + \"|size:\" + str(torinfo.files().file_size(index)) + \"|priority:\" +str(handle.file_priority(index)))\n",
        "\n",
        "print(\"Starting\", handle.name())\n",
        "\n",
        "while (handle.status().state != lt.torrent_status.seeding):\n",
        "    s = handle.status()\n",
        "    state_str = ['queued', 'checking', 'downloading metadata', \\\n",
        "            'downloading', 'finished', 'seeding', 'allocating', 'checking fastresume']\n",
        "    sys.stdout.write('\\r')\n",
        "    sys.stdout.write('%.2f%% complete (down: %.1f kb/s up: %.1f kB/s peers: %d) %s ' % \\\n",
        "            (s.progress * 100, s.download_rate / 1000, s.upload_rate / 1000, \\\n",
        "            s.num_peers, state_str[s.state]))\n",
        "    sys.stdout.flush()\n",
        "    time.sleep(5)\n",
        "\n",
        "print(\"\")\n",
        "end = time.time()\n",
        "print(handle.name(), \"COMPLETE\")\n",
        "\n",
        "print(\"Elapsed Time: \",int((end-begin)//60),\"min :\", int((end-begin)%60), \"sec\")\n",
        "\n",
        "print(datetime.datetime.now())"
      ],
      "execution_count": 0,
      "outputs": []
    },
    {
      "cell_type": "markdown",
      "metadata": {
        "id": "js5cf-Fph5Bn",
        "colab_type": "text"
      },
      "source": [
        "###Code to close torrent session\n"
      ]
    },
    {
      "cell_type": "code",
      "metadata": {
        "id": "8ZCp6lLfiwd9",
        "colab_type": "code",
        "colab": {}
      },
      "source": [
        "try:\n",
        "    ses.remove_torrent(handle)\n",
        "    print(\"Session End\")\n",
        "except (RuntimeError, NameError) as e:\n",
        "    print(e)"
      ],
      "execution_count": 0,
      "outputs": []
    },
    {
      "cell_type": "markdown",
      "metadata": {
        "id": "mN7RiT20i2L7",
        "colab_type": "text"
      },
      "source": [
        "###Unmount Google Drive\n",
        "To sync data written and unmount Goodle Drive"
      ]
    },
    {
      "cell_type": "code",
      "metadata": {
        "id": "GPqc0CF9i6Oq",
        "colab_type": "code",
        "colab": {}
      },
      "source": [
        "drive.flush_and_unmount()\n",
        "print(\"Drive unmounted\")"
      ],
      "execution_count": 0,
      "outputs": []
    }
  ]
}
